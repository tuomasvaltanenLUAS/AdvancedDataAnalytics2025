{
 "cells": [
  {
   "cell_type": "markdown",
   "metadata": {},
   "source": [
    "### Ydata-profiling for regression dataset"
   ]
  },
  {
   "cell_type": "code",
   "execution_count": 2,
   "metadata": {},
   "outputs": [
    {
     "name": "stderr",
     "output_type": "stream",
     "text": [
      "c:\\Users\\tuomas.valtanen\\advda2025lecturenotes\\AdvancedDataAnalytics2025\\.venv\\Lib\\site-packages\\tqdm\\auto.py:21: TqdmWarning: IProgress not found. Please update jupyter and ipywidgets. See https://ipywidgets.readthedocs.io/en/stable/user_install.html\n",
      "  from .autonotebook import tqdm as notebook_tqdm\n"
     ]
    },
    {
     "data": {
      "text/html": [
       "\n",
       "            <div>\n",
       "                <ins><a href=\"https://ydata.ai/register\">Upgrade to ydata-sdk</a></ins>\n",
       "                <p>\n",
       "                    Improve your data and profiling with ydata-sdk, featuring data quality scoring, redundancy detection, outlier identification, text validation, and synthetic data generation.\n",
       "                </p>\n",
       "            </div>\n",
       "            "
      ],
      "text/plain": [
       "<IPython.core.display.HTML object>"
      ]
     },
     "metadata": {},
     "output_type": "display_data"
    },
    {
     "name": "stderr",
     "output_type": "stream",
     "text": [
      "100%|██████████| 21/21 [00:00<?, ?it/s]26 [00:00<00:00, 25.00it/s, Describe variable: sqft_lot15]  \n",
      "Summarize dataset: 100%|██████████| 319/319 [00:15<00:00, 20.54it/s, Completed]                           \n",
      "Generate report structure: 100%|██████████| 1/1 [00:02<00:00,  2.53s/it]\n",
      "Render HTML: 100%|██████████| 1/1 [00:03<00:00,  3.85s/it]\n",
      "Export report to file: 100%|██████████| 1/1 [00:00<00:00, 27.82it/s]\n"
     ]
    }
   ],
   "source": [
    "# pip install ydata-profiling\n",
    "\n",
    "# if in Windows after installing ydata-profiling, you get: \n",
    "# ModuleNotFoundError: No module named 'pkg_resources'\n",
    "# ---> install also the setuptools:\n",
    "# pip install setuptools\n",
    "\n",
    "from ydata_profiling import ProfileReport\n",
    "import pandas as pd\n",
    "\n",
    "# open the data as a pandas DataFrame\n",
    "df = pd.read_csv(\"houses.csv\")\n",
    "\n",
    "# Generate the data profiling report, title is just for viewing purposes\n",
    "report = ProfileReport(df, title='Housing data (regression), Advanced Data Analytics -course')\n",
    "\n",
    "# create the report into a separate HTML -file\n",
    "# you could send this HTML-file to your colleaque \n",
    "# and it should work!\n",
    "report.to_file(\"ydata_housing_regression_report.html\")"
   ]
  },
  {
   "cell_type": "code",
   "execution_count": null,
   "metadata": {},
   "outputs": [],
   "source": []
  }
 ],
 "metadata": {
  "kernelspec": {
   "display_name": ".venv",
   "language": "python",
   "name": "python3"
  },
  "language_info": {
   "codemirror_mode": {
    "name": "ipython",
    "version": 3
   },
   "file_extension": ".py",
   "mimetype": "text/x-python",
   "name": "python",
   "nbconvert_exporter": "python",
   "pygments_lexer": "ipython3",
   "version": "3.12.10"
  }
 },
 "nbformat": 4,
 "nbformat_minor": 2
}
