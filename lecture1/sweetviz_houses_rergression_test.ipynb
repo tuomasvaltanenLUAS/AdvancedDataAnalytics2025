{
 "cells": [
  {
   "cell_type": "code",
   "execution_count": 1,
   "metadata": {},
   "outputs": [
    {
     "data": {
      "application/vnd.jupyter.widget-view+json": {
       "model_id": "c849772387c24da1bd829c437961bc25",
       "version_major": 2,
       "version_minor": 0
      },
      "text/plain": [
       "                                             |          | [  0%]   00:00 -> (? left)"
      ]
     },
     "metadata": {},
     "output_type": "display_data"
    },
    {
     "name": "stdout",
     "output_type": "stream",
     "text": [
      "Report sweetviz_housing_regression_report.html was generated! NOTEBOOK/COLAB USERS: the web browser MAY not pop up, regardless, the report IS saved in your notebook/colab files.\n"
     ]
    }
   ],
   "source": [
    "# pip install sweetviz\n",
    "# pip install ipywidgets\n",
    "\n",
    "# Python 3.10 (or even 3.11) should work well with SweetViz\n",
    "# you PROBABLY NEED TO DOWNGRADE NumPy:\n",
    "# pip install numpy==1.26.4\n",
    "\n",
    "# after downgrading NumPy => restart kernel in this jupyter notebook\n",
    "\n",
    "import sweetviz as sv\n",
    "import pandas as pd\n",
    "\n",
    "# load dataset\n",
    "df = pd.read_csv(\"houses.csv\")\n",
    "\n",
    "# analyze and create HTML-report\n",
    "report = sv.analyze(df)\n",
    "report.show_html('sweetviz_housing_regression_report.html')"
   ]
  },
  {
   "cell_type": "code",
   "execution_count": null,
   "metadata": {},
   "outputs": [],
   "source": []
  }
 ],
 "metadata": {
  "kernelspec": {
   "display_name": "venv310",
   "language": "python",
   "name": "python3"
  },
  "language_info": {
   "codemirror_mode": {
    "name": "ipython",
    "version": 3
   },
   "file_extension": ".py",
   "mimetype": "text/x-python",
   "name": "python",
   "nbconvert_exporter": "python",
   "pygments_lexer": "ipython3",
   "version": "3.10.11"
  }
 },
 "nbformat": 4,
 "nbformat_minor": 2
}
