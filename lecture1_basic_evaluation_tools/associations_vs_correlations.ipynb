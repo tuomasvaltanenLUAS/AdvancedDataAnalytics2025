{
 "cells": [
  {
   "cell_type": "markdown",
   "metadata": {},
   "source": [
    "## Demonstration where correlations might not tell the truth due to lack of linearity"
   ]
  },
  {
   "cell_type": "code",
   "execution_count": 35,
   "metadata": {},
   "outputs": [],
   "source": [
    "# usual imports\n",
    "import numpy as np\n",
    "import pandas as pd\n",
    "import seaborn as sns\n",
    "import phik"
   ]
  },
  {
   "cell_type": "code",
   "execution_count": 36,
   "metadata": {},
   "outputs": [],
   "source": [
    "# ChatGPT used to generate some of the NumPy generating codes\n",
    "# \"create a NumPy list of values, x axis are week numbers (1-52) and y are \n",
    "# continuous sales values. have a rising trend towards the middle of the year, and then\n",
    "# and equal decreasing trend towards the end of the year\"\n",
    "\n",
    "# random seed locked so we always get the same data\n",
    "np.random.seed(512)\n",
    "\n",
    "# generate imaginary \"summer season data\"\n",
    "x = 105.5 + np.linspace(0, 20, 52)\n",
    "\n",
    "# try also: y = np.sin(x / 5.0) + np.random.rand(len(x)) * 0.15 + 2\n",
    "# which is more linear line than this\n",
    "y = np.sin(x / 3.5) + np.random.rand(len(x)) * 0.15 + 2\n",
    "y = y * 50000"
   ]
  },
  {
   "cell_type": "code",
   "execution_count": 37,
   "metadata": {},
   "outputs": [
    {
     "data": {
      "text/html": [
       "<div>\n",
       "<style scoped>\n",
       "    .dataframe tbody tr th:only-of-type {\n",
       "        vertical-align: middle;\n",
       "    }\n",
       "\n",
       "    .dataframe tbody tr th {\n",
       "        vertical-align: top;\n",
       "    }\n",
       "\n",
       "    .dataframe thead th {\n",
       "        text-align: right;\n",
       "    }\n",
       "</style>\n",
       "<table border=\"1\" class=\"dataframe\">\n",
       "  <thead>\n",
       "    <tr style=\"text-align: right;\">\n",
       "      <th></th>\n",
       "      <th>WeekNo</th>\n",
       "      <th>SalesEUR</th>\n",
       "    </tr>\n",
       "  </thead>\n",
       "  <tbody>\n",
       "    <tr>\n",
       "      <th>0</th>\n",
       "      <td>1</td>\n",
       "      <td>53004</td>\n",
       "    </tr>\n",
       "    <tr>\n",
       "      <th>1</th>\n",
       "      <td>2</td>\n",
       "      <td>55728</td>\n",
       "    </tr>\n",
       "    <tr>\n",
       "      <th>2</th>\n",
       "      <td>3</td>\n",
       "      <td>59563</td>\n",
       "    </tr>\n",
       "    <tr>\n",
       "      <th>3</th>\n",
       "      <td>4</td>\n",
       "      <td>62451</td>\n",
       "    </tr>\n",
       "    <tr>\n",
       "      <th>4</th>\n",
       "      <td>5</td>\n",
       "      <td>63912</td>\n",
       "    </tr>\n",
       "  </tbody>\n",
       "</table>\n",
       "</div>"
      ],
      "text/plain": [
       "   WeekNo  SalesEUR\n",
       "0       1     53004\n",
       "1       2     55728\n",
       "2       3     59563\n",
       "3       4     62451\n",
       "4       5     63912"
      ]
     },
     "execution_count": 37,
     "metadata": {},
     "output_type": "execute_result"
    }
   ],
   "source": [
    "# convert x/y values into a pandas DataFrame (for seaborn)\n",
    "df = pd.DataFrame({'WeekNo': x, 'SalesEUR': y})\n",
    "df['SalesEUR'] = df['SalesEUR'].astype(int)\n",
    "df['WeekNo'] = df.index + 1\n",
    "df['WeekNo'] = df['WeekNo'].astype(int)\n",
    "df.head()"
   ]
  },
  {
   "cell_type": "code",
   "execution_count": 38,
   "metadata": {},
   "outputs": [
    {
     "data": {
      "text/plain": [
       "<Axes: xlabel='WeekNo', ylabel='SalesEUR'>"
      ]
     },
     "execution_count": 38,
     "metadata": {},
     "output_type": "execute_result"
    },
    {
     "data": {
      "image/png": "[encoded data removed]",
      "text/plain": [
       "<Figure size 640x480 with 1 Axes>"
      ]
     },
     "metadata": {},
     "output_type": "display_data"
    }
   ],
   "source": [
    "sns.lineplot(x=\"WeekNo\", y=\"SalesEUR\", data=df)"
   ]
  },
  {
   "cell_type": "code",
   "execution_count": 39,
   "metadata": {},
   "outputs": [
    {
     "data": {
      "text/html": [
       "<div>\n",
       "<style scoped>\n",
       "    .dataframe tbody tr th:only-of-type {\n",
       "        vertical-align: middle;\n",
       "    }\n",
       "\n",
       "    .dataframe tbody tr th {\n",
       "        vertical-align: top;\n",
       "    }\n",
       "\n",
       "    .dataframe thead th {\n",
       "        text-align: right;\n",
       "    }\n",
       "</style>\n",
       "<table border=\"1\" class=\"dataframe\">\n",
       "  <thead>\n",
       "    <tr style=\"text-align: right;\">\n",
       "      <th></th>\n",
       "      <th>WeekNo</th>\n",
       "      <th>SalesEUR</th>\n",
       "    </tr>\n",
       "  </thead>\n",
       "  <tbody>\n",
       "    <tr>\n",
       "      <th>WeekNo</th>\n",
       "      <td>1.000000</td>\n",
       "      <td>-0.001563</td>\n",
       "    </tr>\n",
       "    <tr>\n",
       "      <th>SalesEUR</th>\n",
       "      <td>-0.001563</td>\n",
       "      <td>1.000000</td>\n",
       "    </tr>\n",
       "  </tbody>\n",
       "</table>\n",
       "</div>"
      ],
      "text/plain": [
       "            WeekNo  SalesEUR\n",
       "WeekNo    1.000000 -0.001563\n",
       "SalesEUR -0.001563  1.000000"
      ]
     },
     "execution_count": 39,
     "metadata": {},
     "output_type": "execute_result"
    }
   ],
   "source": [
    "# let's check the correlations\n",
    "# as we can see, even though there is a clear trend with seaborn\n",
    "# correlation is virtually 0 => implies there's no connection\n",
    "# this is the limitation of correlations, when the connection is NOT LINEAR\n",
    "df.corr(numeric_only=True)"
   ]
  },
  {
   "cell_type": "code",
   "execution_count": 40,
   "metadata": {},
   "outputs": [
    {
     "name": "stdout",
     "output_type": "stream",
     "text": [
      "interval columns not set, guessing: ['WeekNo', 'SalesEUR']\n"
     ]
    },
    {
     "data": {
      "text/html": [
       "<div>\n",
       "<style scoped>\n",
       "    .dataframe tbody tr th:only-of-type {\n",
       "        vertical-align: middle;\n",
       "    }\n",
       "\n",
       "    .dataframe tbody tr th {\n",
       "        vertical-align: top;\n",
       "    }\n",
       "\n",
       "    .dataframe thead th {\n",
       "        text-align: right;\n",
       "    }\n",
       "</style>\n",
       "<table border=\"1\" class=\"dataframe\">\n",
       "  <thead>\n",
       "    <tr style=\"text-align: right;\">\n",
       "      <th></th>\n",
       "      <th>WeekNo</th>\n",
       "      <th>SalesEUR</th>\n",
       "    </tr>\n",
       "  </thead>\n",
       "  <tbody>\n",
       "    <tr>\n",
       "      <th>WeekNo</th>\n",
       "      <td>1.000000</td>\n",
       "      <td>0.930084</td>\n",
       "    </tr>\n",
       "    <tr>\n",
       "      <th>SalesEUR</th>\n",
       "      <td>0.930084</td>\n",
       "      <td>1.000000</td>\n",
       "    </tr>\n",
       "  </tbody>\n",
       "</table>\n",
       "</div>"
      ],
      "text/plain": [
       "            WeekNo  SalesEUR\n",
       "WeekNo    1.000000  0.930084\n",
       "SalesEUR  0.930084  1.000000"
      ]
     },
     "execution_count": 40,
     "metadata": {},
     "output_type": "execute_result"
    }
   ],
   "source": [
    "# the classic way is to solve this visually, e.g. seaborn\n",
    "# another option is to use ASSOCIATIONS -> phik-matrix\n",
    "# this is feature we study in more detail in Advanced Data Analytics\n",
    "\n",
    "# pip install phik\n",
    "# also import phik in the top of the notebook\n",
    "\n",
    "# other than, phik-matrix integrates into your DataFrames\n",
    "# and you can print it out like this\n",
    "df.phik_matrix()"
   ]
  },
  {
   "cell_type": "markdown",
   "metadata": {},
   "source": [
    "### Remember: phik-matrix looks like a correlation matrix, but it's actually an ASSOCIATION MATRIX"
   ]
  },
  {
   "cell_type": "markdown",
   "metadata": {},
   "source": [
    "### Let's try another trend"
   ]
  },
  {
   "cell_type": "code",
   "execution_count": 41,
   "metadata": {},
   "outputs": [],
   "source": [
    "# ChatGPT used to generate some of the NumPy generating codes\n",
    "# \"create a NumPy list of values, x axis are week numbers (1-52) and y are \n",
    "# continous sales values. have slightly decreasing sales from weeks 1 to 5,\n",
    "# then stable sales until week 35\n",
    "# and finally have a rising trend towards week 52\"\n",
    "\n",
    "# Generate x values (week numbers)\n",
    "x = np.arange(1, 53)\n",
    "\n",
    "# Generate y values for decreasing sales from weeks 1 to 5\n",
    "y_decreasing = np.linspace(230000, 100000, 5) + np.random.randint(-15000, 15000, 5)\n",
    "\n",
    "# Generate y values for stable sales from weeks 5 to 35\n",
    "y_stable = np.random.randint(200000, 220000, 35) - 100000\n",
    "\n",
    "# Generate y values for steadily rising sales from weeks 40 to 52\n",
    "y_rising = np.linspace(100000, 400000, 12) + np.random.randint(-15000, 15000, 12)\n",
    "\n",
    "# Concatenate y values\n",
    "y = np.concatenate((y_decreasing, y_stable, y_rising))"
   ]
  },
  {
   "cell_type": "code",
   "execution_count": 42,
   "metadata": {},
   "outputs": [
    {
     "data": {
      "text/html": [
       "<div>\n",
       "<style scoped>\n",
       "    .dataframe tbody tr th:only-of-type {\n",
       "        vertical-align: middle;\n",
       "    }\n",
       "\n",
       "    .dataframe tbody tr th {\n",
       "        vertical-align: top;\n",
       "    }\n",
       "\n",
       "    .dataframe thead th {\n",
       "        text-align: right;\n",
       "    }\n",
       "</style>\n",
       "<table border=\"1\" class=\"dataframe\">\n",
       "  <thead>\n",
       "    <tr style=\"text-align: right;\">\n",
       "      <th></th>\n",
       "      <th>WeekNo</th>\n",
       "      <th>SalesEUR</th>\n",
       "    </tr>\n",
       "  </thead>\n",
       "  <tbody>\n",
       "    <tr>\n",
       "      <th>0</th>\n",
       "      <td>1</td>\n",
       "      <td>218237</td>\n",
       "    </tr>\n",
       "    <tr>\n",
       "      <th>1</th>\n",
       "      <td>2</td>\n",
       "      <td>188937</td>\n",
       "    </tr>\n",
       "    <tr>\n",
       "      <th>2</th>\n",
       "      <td>3</td>\n",
       "      <td>156794</td>\n",
       "    </tr>\n",
       "    <tr>\n",
       "      <th>3</th>\n",
       "      <td>4</td>\n",
       "      <td>129383</td>\n",
       "    </tr>\n",
       "    <tr>\n",
       "      <th>4</th>\n",
       "      <td>5</td>\n",
       "      <td>91410</td>\n",
       "    </tr>\n",
       "  </tbody>\n",
       "</table>\n",
       "</div>"
      ],
      "text/plain": [
       "   WeekNo  SalesEUR\n",
       "0       1    218237\n",
       "1       2    188937\n",
       "2       3    156794\n",
       "3       4    129383\n",
       "4       5     91410"
      ]
     },
     "execution_count": 42,
     "metadata": {},
     "output_type": "execute_result"
    }
   ],
   "source": [
    "# convert x/y values into a pandas DataFrame (for seaborn)\n",
    "df = pd.DataFrame({'WeekNo': x, 'SalesEUR': y})\n",
    "df['SalesEUR'] = df['SalesEUR'].astype(int)\n",
    "df['WeekNo'] = df.index + 1\n",
    "df['WeekNo'] = df['WeekNo'].astype(int)\n",
    "df.head()"
   ]
  },
  {
   "cell_type": "code",
   "execution_count": 43,
   "metadata": {},
   "outputs": [
    {
     "data": {
      "text/plain": [
       "<Axes: xlabel='WeekNo', ylabel='SalesEUR'>"
      ]
     },
     "execution_count": 43,
     "metadata": {},
     "output_type": "execute_result"
    },
    {
     "data": {
      "image/png": "[encoded data removed]",
      "text/plain": [
       "<Figure size 640x480 with 1 Axes>"
      ]
     },
     "metadata": {},
     "output_type": "display_data"
    }
   ],
   "source": [
    "sns.lineplot(x=\"WeekNo\", y=\"SalesEUR\", data=df)"
   ]
  },
  {
   "cell_type": "code",
   "execution_count": 44,
   "metadata": {},
   "outputs": [
    {
     "data": {
      "text/html": [
       "<div>\n",
       "<style scoped>\n",
       "    .dataframe tbody tr th:only-of-type {\n",
       "        vertical-align: middle;\n",
       "    }\n",
       "\n",
       "    .dataframe tbody tr th {\n",
       "        vertical-align: top;\n",
       "    }\n",
       "\n",
       "    .dataframe thead th {\n",
       "        text-align: right;\n",
       "    }\n",
       "</style>\n",
       "<table border=\"1\" class=\"dataframe\">\n",
       "  <thead>\n",
       "    <tr style=\"text-align: right;\">\n",
       "      <th></th>\n",
       "      <th>WeekNo</th>\n",
       "      <th>SalesEUR</th>\n",
       "    </tr>\n",
       "  </thead>\n",
       "  <tbody>\n",
       "    <tr>\n",
       "      <th>WeekNo</th>\n",
       "      <td>1.000000</td>\n",
       "      <td>0.552178</td>\n",
       "    </tr>\n",
       "    <tr>\n",
       "      <th>SalesEUR</th>\n",
       "      <td>0.552178</td>\n",
       "      <td>1.000000</td>\n",
       "    </tr>\n",
       "  </tbody>\n",
       "</table>\n",
       "</div>"
      ],
      "text/plain": [
       "            WeekNo  SalesEUR\n",
       "WeekNo    1.000000  0.552178\n",
       "SalesEUR  0.552178  1.000000"
      ]
     },
     "execution_count": 44,
     "metadata": {},
     "output_type": "execute_result"
    }
   ],
   "source": [
    "# correlation matrix\n",
    "df.corr(numeric_only=True)"
   ]
  },
  {
   "cell_type": "code",
   "execution_count": 45,
   "metadata": {},
   "outputs": [
    {
     "name": "stdout",
     "output_type": "stream",
     "text": [
      "interval columns not set, guessing: ['WeekNo', 'SalesEUR']\n"
     ]
    },
    {
     "data": {
      "text/html": [
       "<div>\n",
       "<style scoped>\n",
       "    .dataframe tbody tr th:only-of-type {\n",
       "        vertical-align: middle;\n",
       "    }\n",
       "\n",
       "    .dataframe tbody tr th {\n",
       "        vertical-align: top;\n",
       "    }\n",
       "\n",
       "    .dataframe thead th {\n",
       "        text-align: right;\n",
       "    }\n",
       "</style>\n",
       "<table border=\"1\" class=\"dataframe\">\n",
       "  <thead>\n",
       "    <tr style=\"text-align: right;\">\n",
       "      <th></th>\n",
       "      <th>WeekNo</th>\n",
       "      <th>SalesEUR</th>\n",
       "    </tr>\n",
       "  </thead>\n",
       "  <tbody>\n",
       "    <tr>\n",
       "      <th>WeekNo</th>\n",
       "      <td>1.000000</td>\n",
       "      <td>0.449751</td>\n",
       "    </tr>\n",
       "    <tr>\n",
       "      <th>SalesEUR</th>\n",
       "      <td>0.449751</td>\n",
       "      <td>1.000000</td>\n",
       "    </tr>\n",
       "  </tbody>\n",
       "</table>\n",
       "</div>"
      ],
      "text/plain": [
       "            WeekNo  SalesEUR\n",
       "WeekNo    1.000000  0.449751\n",
       "SalesEUR  0.449751  1.000000"
      ]
     },
     "execution_count": 45,
     "metadata": {},
     "output_type": "execute_result"
    }
   ],
   "source": [
    "# phik-matrix also\n",
    "df.phik_matrix()"
   ]
  },
  {
   "cell_type": "code",
   "execution_count": null,
   "metadata": {},
   "outputs": [],
   "source": []
  }
 ],
 "metadata": {
  "kernelspec": {
   "display_name": ".venv",
   "language": "python",
   "name": "python3"
  },
  "language_info": {
   "codemirror_mode": {
    "name": "ipython",
    "version": 3
   },
   "file_extension": ".py",
   "mimetype": "text/x-python",
   "name": "python",
   "nbconvert_exporter": "python",
   "pygments_lexer": "ipython3",
   "version": "3.10.11"
  }
 },
 "nbformat": 4,
 "nbformat_minor": 2
}
