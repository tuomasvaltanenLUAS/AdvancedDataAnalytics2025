{
 "cells": [
  {
   "cell_type": "markdown",
   "metadata": {},
   "source": [
    "#"
   ]
  },
  {
   "cell_type": "code",
   "execution_count": null,
   "metadata": {},
   "outputs": [],
   "source": [
    "# if phik-matrix not found in pandas, try:\n",
    "# pip install phik\n",
    "import phik\n",
    "import pandas as pd\n",
    "\n",
    "# load data\n",
    "df = pd.read_csv(\"houses.csv\")\n",
    "\n",
    "# compute phik-matrix values\n",
    "phik_matrix = df.phik_matrix()\n",
    "\n",
    "phik_matrix"
   ]
  }
 ],
 "metadata": {
  "language_info": {
   "name": "python"
  }
 },
 "nbformat": 4,
 "nbformat_minor": 2
}
