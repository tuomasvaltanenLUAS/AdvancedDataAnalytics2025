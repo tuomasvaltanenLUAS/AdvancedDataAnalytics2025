{
 "cells": [
  {
   "cell_type": "markdown",
   "metadata": {},
   "source": [
    "#### Decision-trees re-visited"
   ]
  },
  {
   "cell_type": "code",
   "execution_count": 2,
   "metadata": {},
   "outputs": [
    {
     "name": "stderr",
     "output_type": "stream",
     "text": [
      "c:\\Users\\tuomas.valtanen\\advda2025lecturenotes\\AdvancedDataAnalytics2025\\.venv\\Lib\\site-packages\\sklearn\\utils\\validation.py:2749: UserWarning: X does not have valid feature names, but DecisionTreeRegressor was fitted with feature names\n"
     ]
    }
   ],
   "source": [
    "import pandas as pd\n",
    "from sklearn.model_selection import train_test_split\n",
    "from sklearn.tree import DecisionTreeRegressor\n",
    "\n",
    "# pip install dtreeviz\n",
    "# in addition, install graphviz:\n",
    "# https://graphviz.org/\n",
    "\n",
    "# REMEMBER TO ADD GRAPHVIZ TO PATH FOR ALL USERS WHEN INSTALLING\n",
    "# after the installation, restart VS Code\n",
    "import dtreeviz\n",
    "import numpy as np\n",
    "\n",
    "\n",
    "df = pd.read_csv(\"houses.csv\")\n",
    "df = df.drop(['id', 'date', 'zipcode', 'lat', 'long'], axis=1)\n",
    "\n",
    "# Split the data into features and target\n",
    "X = df.drop(\"price\", axis=1)\n",
    "y = df['price']\n",
    "\n",
    "# Split into training and testing sets\n",
    "X_train, X_test, y_train, y_test = train_test_split(X, y, test_size=0.3, random_state=42)\n",
    "\n",
    "# Initialize and train the Decision Tree Regressor\n",
    "# adjust the max_depth regarding how much of the decision tree you wish to inspect\n",
    "# you can leave it also out, thus allowing decision tree to fully visualize\n",
    "# however, if the data is super simple or clean, the decision tree will be very heavy\n",
    "# for example: clf = DecisionTreeRegressor() for full decision tree\n",
    "clf = DecisionTreeRegressor(max_depth=5)\n",
    "clf.fit(X_train, y_train)\n",
    "\n",
    "# Visualize the Decision Tree\n",
    "# save to SVG -file, open in a web browser (CAN BE SLOW!!!)\n",
    "# Firefox is often fairly good in visualizing decision trees\n",
    "\n",
    "viz = dtreeviz.model(clf, X_train, y_train, feature_names=X.columns, target_name='price')\n",
    "viz.view(scale=1).save(\"decisiontreetest1.svg\") "
   ]
  }
 ],
 "metadata": {
  "kernelspec": {
   "display_name": ".venv",
   "language": "python",
   "name": "python3"
  },
  "language_info": {
   "codemirror_mode": {
    "name": "ipython",
    "version": 3
   },
   "file_extension": ".py",
   "mimetype": "text/x-python",
   "name": "python",
   "nbconvert_exporter": "python",
   "pygments_lexer": "ipython3",
   "version": "3.12.10"
  }
 },
 "nbformat": 4,
 "nbformat_minor": 2
}
