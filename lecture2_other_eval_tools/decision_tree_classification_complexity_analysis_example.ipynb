{
 "cells": [
  {
   "cell_type": "code",
   "execution_count": 2,
   "metadata": {},
   "outputs": [
    {
     "name": "stderr",
     "output_type": "stream",
     "text": [
      "Ignoring fixed x limits to fulfill fixed data aspect with adjustable data limits.\n",
      "Ignoring fixed x limits to fulfill fixed data aspect with adjustable data limits.\n",
      "Ignoring fixed x limits to fulfill fixed data aspect with adjustable data limits.\n",
      "Ignoring fixed x limits to fulfill fixed data aspect with adjustable data limits.\n",
      "Ignoring fixed x limits to fulfill fixed data aspect with adjustable data limits.\n",
      "Ignoring fixed x limits to fulfill fixed data aspect with adjustable data limits.\n",
      "Ignoring fixed x limits to fulfill fixed data aspect with adjustable data limits.\n",
      "Ignoring fixed x limits to fulfill fixed data aspect with adjustable data limits.\n",
      "Ignoring fixed x limits to fulfill fixed data aspect with adjustable data limits.\n"
     ]
    },
    {
     "name": "stdout",
     "output_type": "stream",
     "text": [
      "\n",
      "Decision tree complexity analysis:\n",
      "\n",
      "Tree Depth: 5\n",
      "Number of Nodes: 17\n",
      "Number of Leaves: 8\n"
     ]
    }
   ],
   "source": [
    "import numpy as np\n",
    "import pandas as pd\n",
    "from sklearn.datasets import load_iris\n",
    "from sklearn.model_selection import train_test_split\n",
    "from sklearn.tree import DecisionTreeClassifier\n",
    "import dtreeviz\n",
    "import matplotlib.pyplot as plt\n",
    "\n",
    "# Load the Iris dataset\n",
    "iris = load_iris()\n",
    "X = iris.data\n",
    "y = iris.target\n",
    "feature_names = iris.feature_names\n",
    "target_names = iris.target_names\n",
    "\n",
    "# Split the dataset into training and test sets\n",
    "X_train, X_test, y_train, y_test = train_test_split(X, y, test_size=0.3, random_state=42)\n",
    "\n",
    "# Create and train the decision tree classifier\n",
    "# adjust max_depth if needed!\n",
    "# for example: clf = DecisionTreeRegressor() for full decision tree\n",
    "clf = DecisionTreeClassifier(max_depth=5)\n",
    "clf.fit(X_train, y_train)\n",
    "\n",
    "# Visualize the decision tree\n",
    "viz = dtreeviz.model(clf, X_train, y_train, target_name='species',feature_names=feature_names, class_names=list(target_names))\n",
    "\n",
    "# Display the visualization\n",
    "viz.view(scale=1).save(\"decisiontreetest2.svg\") \n",
    "\n",
    "# if you want to know the full tree complexity\n",
    "# don't use any max_depth\n",
    "# you can use these metrics when you try optimize and simplify your dataset\n",
    "# lower metrics => more simple decision tree => more clear the dataset is at the moment\n",
    "\n",
    "# Evaluate tree metrics\n",
    "depth = clf.get_depth()\n",
    "n_nodes = clf.tree_.node_count\n",
    "n_leaves = len(clf.tree_.children_left) - np.sum(clf.tree_.children_left == -1)\n",
    "\n",
    "print(\"\\nDecision tree complexity analysis:\\n\")\n",
    "print(f\"Tree Depth: {depth}\")\n",
    "print(f\"Number of Nodes: {n_nodes}\")\n",
    "print(f\"Number of Leaves: {n_leaves}\")"
   ]
  },
  {
   "cell_type": "code",
   "execution_count": null,
   "metadata": {},
   "outputs": [],
   "source": []
  }
 ],
 "metadata": {
  "kernelspec": {
   "display_name": ".venv",
   "language": "python",
   "name": "python3"
  },
  "language_info": {
   "codemirror_mode": {
    "name": "ipython",
    "version": 3
   },
   "file_extension": ".py",
   "mimetype": "text/x-python",
   "name": "python",
   "nbconvert_exporter": "python",
   "pygments_lexer": "ipython3",
   "version": "3.12.10"
  }
 },
 "nbformat": 4,
 "nbformat_minor": 2
}
